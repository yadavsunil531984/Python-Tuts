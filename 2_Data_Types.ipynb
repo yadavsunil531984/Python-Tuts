{
  "nbformat": 4,
  "nbformat_minor": 0,
  "metadata": {
    "colab": {
      "name": "2. Data Types.ipynb",
      "provenance": []
    },
    "kernelspec": {
      "name": "python3",
      "display_name": "Python 3"
    },
    "language_info": {
      "name": "python"
    }
  },
  "cells": [
    {
      "cell_type": "markdown",
      "metadata": {
        "id": "veu-nvzy74tc"
      },
      "source": [
        "#**Python Data Types**"
      ]
    },
    {
      "cell_type": "markdown",
      "metadata": {
        "id": "G9jwbpQM778N"
      },
      "source": [
        "**Built-in Data Types**\n",
        "* In programming, data type is an important concept.\n",
        "* Variables can store data of different types, and different types can do different things.\n",
        "* Python has the following data types built-in by default, in these categories:\n",
        " 1. Text Type: str\n",
        " 2. Numeric Types: int, float, complex\n",
        " 3. Sequence Types: list, tuple, range\n",
        " 4. Mapping Type:\tdict\n",
        " 5. Set Types:\tset, frozenset\n",
        " 6. Boolean Type:\tbool\n",
        " 7. Binary Types:\tbytes, bytearray, memoryview"
      ]
    },
    {
      "cell_type": "markdown",
      "metadata": {
        "id": "H38f9yXB-wg0"
      },
      "source": [
        "**Getting the Data Type**\n",
        "* You can get the data type of any object by using the type() function:"
      ]
    },
    {
      "cell_type": "code",
      "metadata": {
        "id": "8Xwx-eNc_JdV",
        "colab": {
          "base_uri": "https://localhost:8080/"
        },
        "outputId": "5cef7b38-8138-4574-ea82-1862ae4a1ba9"
      },
      "source": [
        "x = \"sun\"\n",
        "print(type(x))"
      ],
      "execution_count": null,
      "outputs": [
        {
          "output_type": "stream",
          "name": "stdout",
          "text": [
            "<class 'str'>\n"
          ]
        }
      ]
    },
    {
      "cell_type": "code",
      "metadata": {
        "id": "g45ppowk8s7s",
        "colab": {
          "base_uri": "https://localhost:8080/"
        },
        "outputId": "30063d0b-4cab-49a8-d361-d550117a8d66"
      },
      "source": [
        "x = 5\n",
        "print(type(x))"
      ],
      "execution_count": null,
      "outputs": [
        {
          "output_type": "stream",
          "name": "stdout",
          "text": [
            "<class 'int'>\n"
          ]
        }
      ]
    },
    {
      "cell_type": "code",
      "metadata": {
        "id": "Lf7cBHjj-9t3",
        "colab": {
          "base_uri": "https://localhost:8080/"
        },
        "outputId": "4f6cb829-7756-40d6-a43e-7b620cb5352d"
      },
      "source": [
        "x = 5.2\n",
        "print(type(x))"
      ],
      "execution_count": null,
      "outputs": [
        {
          "output_type": "stream",
          "name": "stdout",
          "text": [
            "<class 'float'>\n"
          ]
        }
      ]
    },
    {
      "cell_type": "code",
      "metadata": {
        "id": "HDEeGFnl_Cct",
        "colab": {
          "base_uri": "https://localhost:8080/"
        },
        "outputId": "0a3179ee-5323-45d0-ad1f-434fcd5960c8"
      },
      "source": [
        "x = 5+3j\n",
        "print(type(x))"
      ],
      "execution_count": null,
      "outputs": [
        {
          "output_type": "stream",
          "name": "stdout",
          "text": [
            "<class 'complex'>\n"
          ]
        }
      ]
    },
    {
      "cell_type": "code",
      "metadata": {
        "id": "RXdYxOv-_OuV",
        "colab": {
          "base_uri": "https://localhost:8080/"
        },
        "outputId": "18f33cf8-b446-4671-bbf6-13c46f2f1cc6"
      },
      "source": [
        "x = [5, 3, 6, 8]\n",
        "print(type(x))"
      ],
      "execution_count": null,
      "outputs": [
        {
          "output_type": "stream",
          "name": "stdout",
          "text": [
            "<class 'list'>\n"
          ]
        }
      ]
    },
    {
      "cell_type": "code",
      "metadata": {
        "id": "o0Z8og4k_V8a"
      },
      "source": [
        "x = (5, 3, 6, 8)\n",
        "print(type(x))"
      ],
      "execution_count": null,
      "outputs": []
    },
    {
      "cell_type": "markdown",
      "metadata": {
        "id": "bc5WC3uJ_0B6"
      },
      "source": [
        "List are mutable but tuples are not mutable"
      ]
    },
    {
      "cell_type": "code",
      "metadata": {
        "id": "jJKbibzBBFDD",
        "colab": {
          "base_uri": "https://localhost:8080/"
        },
        "outputId": "773e7ecb-2f9c-4bc7-9a3c-6b638c1d8e5d"
      },
      "source": [
        "x = range(6)\n",
        "print(x)\n",
        "type(x)"
      ],
      "execution_count": null,
      "outputs": [
        {
          "output_type": "stream",
          "name": "stdout",
          "text": [
            "range(0, 6)\n"
          ]
        },
        {
          "output_type": "execute_result",
          "data": {
            "text/plain": [
              "range"
            ]
          },
          "metadata": {},
          "execution_count": 6
        }
      ]
    },
    {
      "cell_type": "code",
      "metadata": {
        "id": "GqGBeqdv_1H0",
        "colab": {
          "base_uri": "https://localhost:8080/"
        },
        "outputId": "77ac438a-8b94-4a1f-eaeb-102eb4bbb270"
      },
      "source": [
        "x = {\"a\":5, \"b\":3, \"c\":6, \"d\":8}\n",
        "print(type(x))"
      ],
      "execution_count": null,
      "outputs": [
        {
          "output_type": "stream",
          "name": "stdout",
          "text": [
            "<class 'dict'>\n"
          ]
        }
      ]
    },
    {
      "cell_type": "code",
      "metadata": {
        "id": "IoGOpK2KByia",
        "colab": {
          "base_uri": "https://localhost:8080/"
        },
        "outputId": "bb4402bf-dc38-46dc-9599-3efcb5991c73"
      },
      "source": [
        "x = {\"India\", \"Austrelia\", \"Germany\"}\n",
        "type(x)"
      ],
      "execution_count": null,
      "outputs": [
        {
          "output_type": "execute_result",
          "data": {
            "text/plain": [
              "set"
            ]
          },
          "metadata": {},
          "execution_count": 8
        }
      ]
    },
    {
      "cell_type": "code",
      "metadata": {
        "id": "m9ZwDMf7BbLl",
        "colab": {
          "base_uri": "https://localhost:8080/"
        },
        "outputId": "50e1d2b2-f1e6-4bf9-c070-81030cc776c2"
      },
      "source": [
        "x = frozenset({\"India\", \"Austrelia\", \"Germany\"})\n",
        "type(x)"
      ],
      "execution_count": null,
      "outputs": [
        {
          "output_type": "execute_result",
          "data": {
            "text/plain": [
              "frozenset"
            ]
          },
          "metadata": {},
          "execution_count": 9
        }
      ]
    },
    {
      "cell_type": "code",
      "metadata": {
        "id": "CTaEzT6TAxK1",
        "colab": {
          "base_uri": "https://localhost:8080/"
        },
        "outputId": "c516673f-14ef-453c-c697-458e90926035"
      },
      "source": [
        "x = True\n",
        "y = False\n",
        "print(type(x))\n",
        "print(type(y))"
      ],
      "execution_count": null,
      "outputs": [
        {
          "output_type": "stream",
          "name": "stdout",
          "text": [
            "<class 'bool'>\n",
            "<class 'bool'>\n"
          ]
        }
      ]
    },
    {
      "cell_type": "code",
      "metadata": {
        "id": "ClRLWRClCRc3",
        "colab": {
          "base_uri": "https://localhost:8080/"
        },
        "outputId": "d4468a77-0895-4c67-f3a8-026967db2e09"
      },
      "source": [
        "x = b\"Hello\"\n",
        "print(x)\n",
        "type(x)"
      ],
      "execution_count": null,
      "outputs": [
        {
          "output_type": "stream",
          "name": "stdout",
          "text": [
            "b'Hello'\n"
          ]
        },
        {
          "output_type": "execute_result",
          "data": {
            "text/plain": [
              "bytes"
            ]
          },
          "metadata": {},
          "execution_count": 11
        }
      ]
    },
    {
      "cell_type": "code",
      "metadata": {
        "id": "b4fsZt40CcHZ",
        "colab": {
          "base_uri": "https://localhost:8080/"
        },
        "outputId": "81695ad7-45df-471e-ddaa-df6b84322ad4"
      },
      "source": [
        "x = bytearray(5)\n",
        "print(x)\n",
        "type(x)"
      ],
      "execution_count": null,
      "outputs": [
        {
          "output_type": "stream",
          "name": "stdout",
          "text": [
            "bytearray(b'\\x00\\x00\\x00\\x00\\x00')\n"
          ]
        },
        {
          "output_type": "execute_result",
          "data": {
            "text/plain": [
              "bytearray"
            ]
          },
          "metadata": {},
          "execution_count": 12
        }
      ]
    },
    {
      "cell_type": "code",
      "metadata": {
        "id": "Zghi-CsFCpG4",
        "colab": {
          "base_uri": "https://localhost:8080/"
        },
        "outputId": "3bed96e2-d35f-442c-ab69-a63631bdf81c"
      },
      "source": [
        "x = memoryview(bytes(5))\n",
        "print(x)\n",
        "type(x)"
      ],
      "execution_count": null,
      "outputs": [
        {
          "output_type": "stream",
          "name": "stdout",
          "text": [
            "<memory at 0x7fa33c7b3e20>\n"
          ]
        },
        {
          "output_type": "execute_result",
          "data": {
            "text/plain": [
              "memoryview"
            ]
          },
          "metadata": {},
          "execution_count": 13
        }
      ]
    }
  ]
}